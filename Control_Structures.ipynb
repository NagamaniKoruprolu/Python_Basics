{
  "nbformat": 4,
  "nbformat_minor": 0,
  "metadata": {
    "colab": {
      "provenance": [],
      "authorship_tag": "ABX9TyN4usbkjXs6F9F6MSdpmQ+Q",
      "include_colab_link": true
    },
    "kernelspec": {
      "name": "python3",
      "display_name": "Python 3"
    },
    "language_info": {
      "name": "python"
    }
  },
  "cells": [
    {
      "cell_type": "markdown",
      "metadata": {
        "id": "view-in-github",
        "colab_type": "text"
      },
      "source": [
        "<a href=\"https://colab.research.google.com/github/NagamaniKoruprolu/Python_Basics/blob/main/Control_Structures.ipynb\" target=\"_parent\"><img src=\"https://colab.research.google.com/assets/colab-badge.svg\" alt=\"Open In Colab\"/></a>"
      ]
    },
    {
      "cell_type": "markdown",
      "source": [
        "**Python Control Structures**\n",
        " **Loops and Conditionals**\n",
        "**Learning Objectives**\n",
        "\n",
        "\n",
        "  Understand conditional statements (if, elif, else)\n",
        "  Master different types of loops (for, while)\n",
        "  Learn about loop control statements (break, continue)\n",
        "  Practice implementing control structures\n",
        "\n",
        "\n",
        "\n",
        "\n",
        "\n"
      ],
      "metadata": {
        "id": "8wRWKltFDgAt"
      }
    },
    {
      "cell_type": "code",
      "source": [
        "# Example of if-elif-else\n",
        "def grade_calculator(score):\n",
        "    if score >= 90:\n",
        "        return 'A'\n",
        "    elif score >= 80:\n",
        "        return 'B'\n",
        "    elif score >= 70:\n",
        "        return 'C'\n",
        "    elif score >= 60:\n",
        "        return 'D'\n",
        "    else:\n",
        "        return 'F'\n",
        "\n",
        "# Test the function\n",
        "scores = [95, 85, 75, 65, 55]\n",
        "for score in scores:\n",
        "    print(f\"Score: {score}, Grade: {grade_calculator(score)}\")"
      ],
      "metadata": {
        "colab": {
          "base_uri": "https://localhost:8080/"
        },
        "id": "owNupC0RENYg",
        "outputId": "ded5be82-37ba-43b2-e461-4f7759b328bd"
      },
      "execution_count": 4,
      "outputs": [
        {
          "output_type": "stream",
          "name": "stdout",
          "text": [
            "Score: 95, Grade: A\n",
            "Score: 85, Grade: B\n",
            "Score: 75, Grade: C\n",
            "Score: 65, Grade: D\n",
            "Score: 55, Grade: F\n"
          ]
        }
      ]
    },
    {
      "cell_type": "code",
      "source": [
        "# Different types of for loops\n",
        "\n",
        "# Loop through a list\n",
        "fruits = ['apple', 'banana', 'orange']\n",
        "print(\"Looping through list:\")\n",
        "for fruit in fruits:\n",
        "    print(fruit)\n",
        "\n",
        "# Loop using range\n",
        "print(\"\\nLooping with range:\")\n",
        "for i in range(3):\n",
        "    print(f\"Number: {i}\")\n",
        "\n",
        "# Loop with enumerate\n",
        "print(\"\\nLooping with enumerate:\")\n",
        "for index, fruit in enumerate(fruits):\n",
        "    print(f\"Index {index}: {fruit}\")"
      ],
      "metadata": {
        "colab": {
          "base_uri": "https://localhost:8080/"
        },
        "id": "6XwdbfrYDfbg",
        "outputId": "216da41e-ad2a-4aed-e0db-3347ece334f4"
      },
      "execution_count": 5,
      "outputs": [
        {
          "output_type": "stream",
          "name": "stdout",
          "text": [
            "Looping through list:\n",
            "apple\n",
            "banana\n",
            "orange\n",
            "\n",
            "Looping with range:\n",
            "Number: 0\n",
            "Number: 1\n",
            "Number: 2\n",
            "\n",
            "Looping with enumerate:\n",
            "Index 0: apple\n",
            "Index 1: banana\n",
            "Index 2: orange\n"
          ]
        }
      ]
    },
    {
      "cell_type": "code",
      "source": [
        "# Exercise 1: FizzBuzz\n",
        "def fizzbuzz(n):\n",
        "    for i in range(1, n+1):\n",
        "        if i % 3 == 0 and i % 5 == 0:\n",
        "            print(\"FizzBuzz\")\n",
        "        elif i % 3 == 0:\n",
        "            print(\"Fizz\")\n",
        "        elif i % 5 == 0:\n",
        "            print(\"Buzz\")\n",
        "        else:\n",
        "            print(i)\n",
        "\n",
        "# Test FizzBuzz\n",
        "print(\"FizzBuzz up to 15:\")\n",
        "fizzbuzz(15)"
      ],
      "metadata": {
        "colab": {
          "base_uri": "https://localhost:8080/"
        },
        "id": "8mevsyg2Ca_z",
        "outputId": "9f1cdd69-9514-46d0-f4e3-5686dbcfdf08"
      },
      "execution_count": 1,
      "outputs": [
        {
          "output_type": "stream",
          "name": "stdout",
          "text": [
            "FizzBuzz up to 15:\n",
            "1\n",
            "2\n",
            "Fizz\n",
            "4\n",
            "Buzz\n",
            "Fizz\n",
            "7\n",
            "8\n",
            "Fizz\n",
            "Buzz\n",
            "11\n",
            "Fizz\n",
            "13\n",
            "14\n",
            "FizzBuzz\n"
          ]
        }
      ]
    },
    {
      "cell_type": "code",
      "execution_count": 2,
      "metadata": {
        "colab": {
          "base_uri": "https://localhost:8080/"
        },
        "id": "cJ7zJUr0BbFs",
        "outputId": "4e226898-85f7-48eb-fb61-607c9717bad3"
      },
      "outputs": [
        {
          "output_type": "stream",
          "name": "stdout",
          "text": [
            "Countdown:\n",
            "5\n",
            "4\n",
            "3\n",
            "2\n",
            "1\n",
            "\n",
            "While with break:\n",
            "0\n",
            "1\n",
            "2\n",
            "3\n",
            "4\n"
          ]
        }
      ],
      "source": [
        "# While loop examples\n",
        "\n",
        "# Basic while loop\n",
        "print(\"Countdown:\")\n",
        "count = 5\n",
        "while count > 0:\n",
        "    print(count)\n",
        "    count -= 1\n",
        "\n",
        "# While loop with break\n",
        "print(\"\\nWhile with break:\")\n",
        "num = 0\n",
        "while True:\n",
        "    if num >= 5:\n",
        "        break\n",
        "    print(num)\n",
        "    num += 1"
      ]
    },
    {
      "cell_type": "code",
      "source": [
        "# Exercise 2: Pattern Printing\n",
        "def print_pattern(rows):\n",
        "    for i in range(rows):\n",
        "        for j in range(i+1):\n",
        "            print(\"*\", end=\" \")\n",
        "        print()\n",
        "\n",
        "# Test pattern printing\n",
        "print(\"Pattern with 5 rows:\")\n",
        "print_pattern(5)"
      ],
      "metadata": {
        "colab": {
          "base_uri": "https://localhost:8080/"
        },
        "id": "L1xhgSocDKeQ",
        "outputId": "e683425d-0225-4eea-f741-1d2cd224a92e"
      },
      "execution_count": 3,
      "outputs": [
        {
          "output_type": "stream",
          "name": "stdout",
          "text": [
            "Pattern with 5 rows:\n",
            "* \n",
            "* * \n",
            "* * * \n",
            "* * * * \n",
            "* * * * * \n"
          ]
        }
      ]
    }
  ]
}