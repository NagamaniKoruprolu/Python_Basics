{
  "nbformat": 4,
  "nbformat_minor": 0,
  "metadata": {
    "colab": {
      "provenance": [],
      "authorship_tag": "ABX9TyOizY61V5vsLY0DLGHQ+oBk",
      "include_colab_link": true
    },
    "kernelspec": {
      "name": "python3",
      "display_name": "Python 3"
    },
    "language_info": {
      "name": "python"
    }
  },
  "cells": [
    {
      "cell_type": "markdown",
      "metadata": {
        "id": "view-in-github",
        "colab_type": "text"
      },
      "source": [
        "<a href=\"https://colab.research.google.com/github/NagamaniKoruprolu/Python_Basics/blob/main/Data_Structures_in_Python.ipynb\" target=\"_parent\"><img src=\"https://colab.research.google.com/assets/colab-badge.svg\" alt=\"Open In Colab\"/></a>"
      ]
    },
    {
      "cell_type": "markdown",
      "source": [
        "# Week 1, Day 5: Data Structures in Python\n",
        "\n",
        "## Learning Objectives\n",
        "- Master Python Lists and their operations\n",
        "- Understand Tuples and their immutability\n",
        "- Learn Dictionary operations and use cases\n",
        "- Practice working with different data structures"
      ],
      "metadata": {
        "id": "MMHcas8jmEC-"
      }
    },
    {
      "cell_type": "markdown",
      "source": [
        "## 1. Lists\n",
        "\n",
        "### List Operations\n",
        "- Creating lists\n",
        "- Adding and removing elements\n",
        "- List slicing\n",
        "- List methods"
      ],
      "metadata": {
        "id": "bShtCvaPmKx-"
      }
    },
    {
      "cell_type": "code",
      "source": [
        "# list operations\n",
        "# creating lists\n",
        "numbers = [1,2,3,4,5]\n",
        "fruits = ['apple', 'banana', 'cherry']\n",
        "mixed = [1, 'apple', 3.14, True]\n",
        "\n",
        "#print list methods\n",
        "print(numbers)\n",
        "print(fruits)\n",
        "print(mixed)\n",
        "\n",
        "print(\"Orginal list\", numbers)\n",
        "numbers.append(6)\n",
        "print(\"After append\", numbers)\n",
        "numbers.remove(3)\n",
        "print(\"After remove\", numbers)\n",
        "\n",
        "numbers.insert(0,0)\n",
        "print(numbers)\n",
        "\n",
        "print(numbers.index(6))\n",
        "numbers.insert(3,11)\n",
        "print(numbers)\n",
        "# list slicing\n",
        "print(\"slicing[1:4]:\", numbers[1:4])\n",
        "\n",
        "#"
      ],
      "metadata": {
        "colab": {
          "base_uri": "https://localhost:8080/"
        },
        "id": "vPHwp4HAmQKn",
        "outputId": "0d7a8a1f-60d4-4907-a8af-18136564c651"
      },
      "execution_count": 8,
      "outputs": [
        {
          "output_type": "stream",
          "name": "stdout",
          "text": [
            "[1, 2, 3, 4, 5]\n",
            "['apple', 'banana', 'cherry']\n",
            "[1, 'apple', 3.14, True]\n",
            "Orginal list [1, 2, 3, 4, 5]\n",
            "After append [1, 2, 3, 4, 5, 6]\n",
            "After remove [1, 2, 4, 5, 6]\n",
            "[0, 1, 2, 4, 5, 6]\n",
            "5\n",
            "[0, 1, 2, 11, 4, 5, 6]\n",
            "slicing[1:4]: [1, 2, 11]\n"
          ]
        }
      ]
    },
    {
      "cell_type": "markdown",
      "source": [
        "## 2. Tuples\n",
        "\n",
        "### Tuple Features\n",
        "- Creating tuples\n",
        "- Immutability\n",
        "- Tuple methods\n",
        "- Use cases"
      ],
      "metadata": {
        "id": "ir4cArC2oXfw"
      }
    },
    {
      "cell_type": "code",
      "source": [
        "# Tuple operations\n",
        "# creating tuples\n",
        "coordinates  = (11, 20)\n",
        "persion = ('John', 25, 'New York')\n",
        "single_element = (42,)\n",
        "\n",
        "#print tuple methods\n",
        "print(coordinates)\n",
        "print(persion)\n",
        "print(single_element)\n",
        "\n",
        "#tuple operations\n",
        "print(\"Coordinates:\", coordinates)\n",
        "print(\"X-coordinate:\", coordinates.index(11))\n",
        "print(\"Y-coordinate:\", coordinates.count(11))\n",
        "\n",
        "#tuple unpacking\n",
        "name, age, city = persion\n",
        "print(f\"name: {name}, age: {age}, city: {city}\")\n",
        "\n",
        "# try to modify tuple(will raise error)\n",
        "try:\n",
        "  coordinates[0] = 30\n",
        "except TypeError as e:\n",
        "  print(e)\n",
        "\n"
      ],
      "metadata": {
        "colab": {
          "base_uri": "https://localhost:8080/"
        },
        "id": "Vs5EVet1oclf",
        "outputId": "6ca4b933-edbb-4cfd-de46-39b982984397"
      },
      "execution_count": 18,
      "outputs": [
        {
          "output_type": "stream",
          "name": "stdout",
          "text": [
            "(11, 20)\n",
            "('John', 25, 'New York')\n",
            "(42,)\n",
            "Coordinates: (11, 20)\n",
            "X-coordinate: 0\n",
            "Y-coordinate: 1\n",
            "name: John, age: 25, city: New York\n",
            "'tuple' object does not support item assignment\n"
          ]
        }
      ]
    },
    {
      "cell_type": "markdown",
      "source": [
        "## 3. Dictionaries\n",
        "\n",
        "### Dictionary Operations\n",
        "- Creating dictionaries\n",
        "- Adding and removing items\n",
        "- Dictionary methods\n",
        "- Nested dictionaries"
      ],
      "metadata": {
        "id": "czSzv3JmrRcv"
      }
    },
    {
      "cell_type": "code",
      "source": [
        "from os import EX_TEMPFAIL\n",
        "# dictionary operations\n",
        "# creating dictionary\n",
        "student = {'name': 'Ram', 'age': 20, 'grades': {'math':90, 'science': 85, 'history': 88} }\n",
        "# dictionary methods\n",
        "print(\"orignal dictionary:\", student)\n",
        "# adding key value pair\n",
        "student['email']= \"nagamai@gmail.com\"\n",
        "print(\"orignal dictionary:\", student)\n",
        "# accessing nested dictionaly\n",
        "print(\"\\n Math grade:\", student['grades'][\"math\"])\n",
        "\n",
        "print(\"keys\", student.keys())\n",
        "print(\"values\", student.values())\n",
        "print(\"items\", student.items())\n",
        "\n",
        "#remove a key\n",
        "removed_key  = student.pop('age')\n",
        "print(\" removed age value \",removed_key)\n",
        "print(\"after removed age:\", student)\n",
        "\n"
      ],
      "metadata": {
        "colab": {
          "base_uri": "https://localhost:8080/"
        },
        "id": "Qjh8glb7sAy-",
        "outputId": "08d5cbb7-441a-4f2f-c90b-41e47dc6a167"
      },
      "execution_count": 29,
      "outputs": [
        {
          "output_type": "stream",
          "name": "stdout",
          "text": [
            "orignal dictionary: {'name': 'Ram', 'age': 20, 'grades': {'math': 90, 'science': 85, 'history': 88}}\n",
            "orignal dictionary: {'name': 'Ram', 'age': 20, 'grades': {'math': 90, 'science': 85, 'history': 88}, 'email': 'nagamai@gmail.com'}\n",
            "\n",
            " Math grade: 90\n",
            "keys dict_keys(['name', 'age', 'grades', 'email'])\n",
            "values dict_values(['Ram', 20, {'math': 90, 'science': 85, 'history': 88}, 'nagamai@gmail.com'])\n",
            "items dict_items([('name', 'Ram'), ('age', 20), ('grades', {'math': 90, 'science': 85, 'history': 88}), ('email', 'nagamai@gmail.com')])\n",
            " removed age value  20\n",
            "after removed age: {'name': 'Ram', 'grades': {'math': 90, 'science': 85, 'history': 88}, 'email': 'nagamai@gmail.com'}\n"
          ]
        }
      ]
    },
    {
      "cell_type": "code",
      "source": [
        "# excercise contact manager\n",
        "def contact_manager():\n",
        "    contacts = {}\n",
        "    def add_contact(name, phone, email):\n",
        "        contacts[name] = {'phone': phone, 'email': email}\n",
        "        return f\"{name} has been added to your contact list.\"\n",
        "    def get_contact(name):\n",
        "        if name in contacts:\n",
        "            contact = contacts[name]\n",
        "            return f\"{name}'s phone number is {contact['phone']} and email is {contact['email']}.\"\n",
        "        else:\n",
        "            return f\"{name} is not in your contact list.\"\n",
        "\n",
        "    def delete_contact(name):\n",
        "        if name in contacts:\n",
        "            del contacts[name]\n",
        "            return f\"{name} has been removed from your contact list.\"\n",
        "        else:\n",
        "            return f\"{name} is not in your contact list.\"\n",
        "\n",
        "    # test contact manager\n",
        "    print(add_contact(\"Ram\", \"1234567890\", \"ram@gmail.com\"))\n",
        "    print(add_contact(\"Shyam\", \"9876543210\", \"shyam@gmail.com\"))\n",
        "    print(get_contact(\"Ram\"))\n",
        "    print(delete_contact(\"Shyam\"))\n",
        "    print(get_contact(\"Shyam\"))\n",
        "\n",
        "contact_manager()\n",
        "\n",
        "\n",
        ""
      ],
      "metadata": {
        "colab": {
          "base_uri": "https://localhost:8080/"
        },
        "id": "-pahwa5qwUlH",
        "outputId": "ddc2d092-4326-40a8-aad4-4dc5fad89659"
      },
      "execution_count": 36,
      "outputs": [
        {
          "output_type": "stream",
          "name": "stdout",
          "text": [
            "Ram has been added to your contact list.\n",
            "Shyam has been added to your contact list.\n",
            "Ram's phone number is 1234567890 and email is ram@gmail.com.\n",
            "Shyam has been removed from your contact list.\n",
            "Shyam is not in your contact list.\n"
          ]
        }
      ]
    }
  ]
}