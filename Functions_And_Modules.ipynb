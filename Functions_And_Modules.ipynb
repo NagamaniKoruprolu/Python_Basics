{
  "nbformat": 4,
  "nbformat_minor": 0,
  "metadata": {
    "colab": {
      "provenance": [],
      "authorship_tag": "ABX9TyMLNFCfY3ErlUGkzM0Lt62N",
      "include_colab_link": true
    },
    "kernelspec": {
      "name": "python3",
      "display_name": "Python 3"
    },
    "language_info": {
      "name": "python"
    }
  },
  "cells": [
    {
      "cell_type": "markdown",
      "metadata": {
        "id": "view-in-github",
        "colab_type": "text"
      },
      "source": [
        "<a href=\"https://colab.research.google.com/github/NagamaniKoruprolu/Python_Basics/blob/main/Functions_And_Modules.ipynb\" target=\"_parent\"><img src=\"https://colab.research.google.com/assets/colab-badge.svg\" alt=\"Open In Colab\"/></a>"
      ]
    },
    {
      "cell_type": "markdown",
      "source": [
        "# Functions and Modules in Python\n",
        "\n",
        "## Learning Objectives\n",
        "- Understand function definition and calling\n",
        "- Learn about function parameters and return values\n",
        "- Master function arguments (positional, keyword, default)\n",
        "- Understand Python modules and imports\n"
      ],
      "metadata": {
        "id": "f2mM8YbrGp7T"
      }
    },
    {
      "cell_type": "markdown",
      "source": [
        "## 1. Function Basics\n",
        "\n",
        "### Function Structure\n",
        "- Function definition using `def`\n",
        "- Parameters and arguments\n",
        "- Return values\n",
        "- Docstrings"
      ],
      "metadata": {
        "id": "meg8dBUyG6kU"
      }
    },
    {
      "cell_type": "code",
      "source": [
        "def greet(name):\n",
        "    \"\"\"This function greets the person passed in as parameter\n",
        "    asdfs sdfgs dfd \"\"\"\n",
        "\n",
        "    return f\"Hello, {name}!\"\n",
        "\n",
        "# Function with multiple parameters\n",
        "def calculate_rectangle_area(length, width):\n",
        "    \"\"\"Calculate the area of a rectangle\"\"\"\n",
        "    return length * width\n",
        "\n",
        "# Test the functions\n",
        "print(greet(\"Alice\"))\n",
        "print(f\"Rectangle area: {calculate_rectangle_area(5, 3)}\")"
      ],
      "metadata": {
        "colab": {
          "base_uri": "https://localhost:8080/"
        },
        "id": "Y1wr3qcPHZc8",
        "outputId": "905c60e7-2721-4ad4-87a7-915bd8e81307"
      },
      "execution_count": 6,
      "outputs": [
        {
          "output_type": "stream",
          "name": "stdout",
          "text": [
            "Hello, Alice!\n",
            "Rectangle area: 15\n"
          ]
        }
      ]
    },
    {
      "cell_type": "markdown",
      "source": [
        "## 2. Advanced Function Features\n",
        "\n",
        "### Types of Arguments\n",
        "- Positional arguments\n",
        "- Keyword arguments\n",
        "- Default parameters\n",
        "- *args and **kwargs"
      ],
      "metadata": {
        "id": "N-SNmzg-ICJy"
      }
    },
    {
      "cell_type": "code",
      "source": [
        "# Function with default parameters\n",
        "def power(base, exponent=2):\n",
        "    return base ** exponent\n",
        "\n",
        "# Function with *args\n",
        "def sum_all(*args):\n",
        "    return sum(args)\n",
        "\n",
        "# Function with **kwargs\n",
        "def print_info(**kwargs):\n",
        "    for key, value in kwargs.items():\n",
        "        print(f\"{key}: {value}\")\n",
        "\n",
        "# Test the functions\n",
        "print(f\"Square of 5: {power(5)}\")\n",
        "print(f\"5 to power 3: {power(5, 3)}\")\n",
        "print(f\"Sum of numbers: {sum_all(1, 2, 3, 4, 5)}\")\n",
        "print(\"\\nPerson Info:\")\n",
        "print_info(name=\"John\", age=30, city=\"New York\")"
      ],
      "metadata": {
        "colab": {
          "base_uri": "https://localhost:8080/"
        },
        "id": "5F2SJeR5ILl1",
        "outputId": "a7d073e6-f8a6-4719-ff42-0ce2e807e6de"
      },
      "execution_count": 7,
      "outputs": [
        {
          "output_type": "stream",
          "name": "stdout",
          "text": [
            "Square of 5: 25\n",
            "5 to power 3: 125\n",
            "Sum of numbers: 15\n",
            "\n",
            "Person Info:\n",
            "name: John\n",
            "age: 30\n",
            "city: New York\n"
          ]
        }
      ]
    },
    {
      "cell_type": "markdown",
      "source": [
        "## 3. Modules in Python\n",
        "\n",
        "### Working with Modules\n",
        "- Built-in modules\n",
        "- Importing modules\n",
        "- Creating custom modules\n"
      ],
      "metadata": {
        "id": "tBkKUoX1Jks6"
      }
    },
    {
      "cell_type": "code",
      "source": [
        "# Using built-in modules\n",
        "import math\n",
        "import random\n",
        "from datetime import datetime\n",
        "\n",
        "# Using math module\n",
        "print(f\"Square root of 16: {math.sqrt(16)}\")\n",
        "print(f\"Value of pi: {math.pi}\")\n",
        "\n",
        "# Using random module\n",
        "print(f\"Random number between 1 and 10: {random.randint(1, 10)}\")\n",
        "\n",
        "# Using datetime\n",
        "print(f\"Current date and time: {datetime.now()}\")"
      ],
      "metadata": {
        "colab": {
          "base_uri": "https://localhost:8080/"
        },
        "id": "tALseGacJstf",
        "outputId": "99af06de-33cf-4212-d88e-f6cc7a2a138f"
      },
      "execution_count": 8,
      "outputs": [
        {
          "output_type": "stream",
          "name": "stdout",
          "text": [
            "Square root of 16: 4.0\n",
            "Value of pi: 3.141592653589793\n",
            "Random number between 1 and 10: 9\n",
            "Current date and time: 2025-03-19 06:46:01.652347\n"
          ]
        }
      ]
    },
    {
      "cell_type": "code",
      "source": [
        "# Exercise 1: Calculator Function\n",
        "def calculator(num1, num2, operation='add'):\n",
        "    \"\"\"Basic calculator function with multiple operations\"\"\"\n",
        "    operations = {\n",
        "        'add': lambda x, y: x + y,\n",
        "        'subtract': lambda x, y: x - y,\n",
        "        'multiply': lambda x, y: x * y,\n",
        "        'divide': lambda x, y: x / y if y != 0 else 'Error: Division by zero'\n",
        "    }\n",
        "    return operations.get(operation, lambda x, y: 'Invalid operation')(num1, num2)\n",
        "\n",
        "# Test calculator\n",
        "print(f\"Addition: {calculator(5, 3, 'add')}\")\n",
        "print(f\"Multiplication: {calculator(5, 3, 'multiply')}\")\n",
        "print(f\"Division: {calculator(6, 2, 'divide')}\")"
      ],
      "metadata": {
        "colab": {
          "base_uri": "https://localhost:8080/"
        },
        "id": "O0IWd24QKHlV",
        "outputId": "4da9617b-380c-4b30-f8b0-b55777fc9687"
      },
      "execution_count": 9,
      "outputs": [
        {
          "output_type": "stream",
          "name": "stdout",
          "text": [
            "Addition: 8\n",
            "Multiplication: 15\n",
            "Division: 3.0\n"
          ]
        }
      ]
    },
    {
      "cell_type": "code",
      "source": [
        "# Exercise 2: String Processor\n",
        "def string_processor(text, operations=['upper']):\n",
        "    \"\"\"Process string based on specified operations\"\"\"\n",
        "    result = text\n",
        "    for op in operations:\n",
        "        if op == 'upper':\n",
        "            result = result.upper()\n",
        "        elif op == 'lower':\n",
        "            result = result.lower()\n",
        "        elif op == 'capitalize':\n",
        "            result = result.capitalize()\n",
        "        elif op == 'reverse':\n",
        "            result = result[::-1]\n",
        "    return result\n",
        "\n",
        "# Test string processor\n",
        "text = \"Hello World\"\n",
        "print(f\"Original: {text}\")\n",
        "print(f\"Upper: {string_processor(text, ['upper'])}\")\n",
        "print(f\"Reverse: {string_processor(text, ['reverse'])}\")\n",
        "print(f\"Upper + Reverse: {string_processor(text, ['upper', 'reverse'])}\")"
      ],
      "metadata": {
        "colab": {
          "base_uri": "https://localhost:8080/"
        },
        "id": "OFtuECvQKrCk",
        "outputId": "8902cc3d-869e-4ce2-bb0d-731b2b51473a"
      },
      "execution_count": 10,
      "outputs": [
        {
          "output_type": "stream",
          "name": "stdout",
          "text": [
            "Original: Hello World\n",
            "Upper: HELLO WORLD\n",
            "Reverse: dlroW olleH\n",
            "Upper + Reverse: DLROW OLLEH\n"
          ]
        }
      ]
    }
  ]
}