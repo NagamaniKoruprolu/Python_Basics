{
  "nbformat": 4,
  "nbformat_minor": 0,
  "metadata": {
    "colab": {
      "provenance": [],
      "authorship_tag": "ABX9TyO2ZGQr0JsU2gfq0snSdpri",
      "include_colab_link": true
    },
    "kernelspec": {
      "name": "python3",
      "display_name": "Python 3"
    },
    "language_info": {
      "name": "python"
    }
  },
  "cells": [
    {
      "cell_type": "markdown",
      "metadata": {
        "id": "view-in-github",
        "colab_type": "text"
      },
      "source": [
        "<a href=\"https://colab.research.google.com/github/NagamaniKoruprolu/Python_Basics/blob/main/Introduction_to_Numpy.ipynb\" target=\"_parent\"><img src=\"https://colab.research.google.com/assets/colab-badge.svg\" alt=\"Open In Colab\"/></a>"
      ]
    },
    {
      "cell_type": "markdown",
      "source": [
        "# Introduction to NumPy - Arrays and Operations\n",
        "\n",
        "## Learning Objectives\n",
        "- Understand NumPy arrays and their advantages\n",
        "- Learn array creation and manipulation\n",
        "- Master basic array operations\n",
        "- Practice NumPy mathematical functions\n"
      ],
      "metadata": {
        "id": "zLRgI2heCrx_"
      }
    },
    {
      "cell_type": "code",
      "source": [
        "# Import NumPy\n",
        "import numpy as np"
      ],
      "metadata": {
        "id": "27R1EymdC2nd"
      },
      "execution_count": 2,
      "outputs": []
    },
    {
      "cell_type": "markdown",
      "source": [
        "## 1. Creating NumPy Arrays\n",
        "\n",
        "### Different ways to create arrays:\n",
        "- From Python lists\n",
        "- Using NumPy functions\n",
        "- Special arrays (zeros, ones, identity)"
      ],
      "metadata": {
        "id": "AaAXGL5fC9UP"
      }
    },
    {
      "cell_type": "code",
      "execution_count": 10,
      "metadata": {
        "colab": {
          "base_uri": "https://localhost:8080/"
        },
        "id": "bERSi5ybCk9h",
        "outputId": "cfa9aea0-2b08-4338-e54e-683a22e7f88b"
      },
      "outputs": [
        {
          "output_type": "stream",
          "name": "stdout",
          "text": [
            "From list: [1 2 3 4 5]\n",
            "\n",
            "Using arange: [0 2 4 6 8]\n",
            "\n",
            "Using arange: [ 0  3  6  9 12]\n",
            "\n",
            "Linspace: [ 1.          6.44444444 11.88888889 17.33333333 22.77777778 28.22222222\n",
            " 33.66666667 39.11111111 44.55555556 50.        ]\n",
            "\n",
            "Zeros: [0. 0. 0.]\n",
            "\n",
            "Ones:\n",
            " [[1. 1.]\n",
            " [1. 1.]]\n",
            "\n",
            "Identity matrix:\n",
            " [[1. 0. 0.]\n",
            " [0. 1. 0.]\n",
            " [0. 0. 1.]]\n"
          ]
        }
      ],
      "source": [
        "# Creating arrays\n",
        "# From list\n",
        "list_array = np.array([1, 2, 3, 4, 5])\n",
        "print(\"From list:\", list_array)\n",
        "\n",
        "# Using arange\n",
        "range_array = np.arange(0, 10, 2)  # Start, stop, step\n",
        "print(\"\\nUsing arange:\", range_array)\n",
        "range_array = np.arange(0, 15, 3)  # Start, stop, step\n",
        "print(\"\\nUsing arange:\", range_array)\n",
        "\n",
        "\n",
        "# Using linspace\n",
        "linear_space = np.linspace(1, 50, 10)  # Start, stop, num of points\n",
        "print(\"\\nLinspace:\", linear_space)\n",
        "\n",
        "# Special arrays\n",
        "zeros = np.zeros(3)\n",
        "ones = np.ones((2, 2))\n",
        "identity = np.eye(3)\n",
        "\n",
        "print(\"\\nZeros:\", zeros)\n",
        "print(\"\\nOnes:\\n\", ones)\n",
        "print(\"\\nIdentity matrix:\\n\", identity)\n"
      ]
    },
    {
      "cell_type": "markdown",
      "source": [
        "## 2. Array Operations\n",
        "\n",
        "### Basic operations:\n",
        "- Arithmetic operations\n",
        "- Broadcasting\n",
        "- Element-wise operations"
      ],
      "metadata": {
        "id": "E-LYPDIgGgkG"
      }
    },
    {
      "cell_type": "code",
      "source": [
        "# Array operations\n",
        "\n",
        "a= np.array([1,2,3])\n",
        "b= np.array([4,5,6])\n",
        "\n",
        "# Arithmetic operations\n",
        "print(\"Addition:\", a + b)\n",
        "print(\"Subtraction:\", a - b)\n",
        "print(\"Multiplication:\", a * b)\n",
        "print(\"Division:\", a / b)\n",
        "\n",
        "# broadcasting\n",
        "print(\"add a scalar:\", a+2)\n",
        "print (\"multiplat scaler\", a*3)\n",
        "\n",
        "# stastistical operations\n",
        "print(\"mean:\", np.mean(a))\n",
        "print(f\"sum:{np.sum(a)}\")\n",
        "print(f\"max:{np.max(a)}\")\n",
        "print(f\"min:{np.min(a)}\")"
      ],
      "metadata": {
        "colab": {
          "base_uri": "https://localhost:8080/"
        },
        "id": "gQPw0ti2Glg-",
        "outputId": "e956f38f-00ab-4f1c-a2a2-372c33c9a0f2"
      },
      "execution_count": 13,
      "outputs": [
        {
          "output_type": "stream",
          "name": "stdout",
          "text": [
            "Addition: [5 7 9]\n",
            "Subtraction: [-3 -3 -3]\n",
            "Multiplication: [ 4 10 18]\n",
            "Division: [0.25 0.4  0.5 ]\n",
            "add a scalar: [3 4 5]\n",
            "multiplat scaler [3 6 9]\n",
            "mean: 2.0\n",
            "sum:6\n",
            "max:3\n",
            "min:1\n"
          ]
        }
      ]
    },
    {
      "cell_type": "code",
      "source": [
        "# Exercise 1: Temprature conversion\n",
        "def temprature_conversion():\n",
        "  # create array of celsius tempratures\n",
        "  celsious = np.linspace(0, 100, 11)\n",
        "\n",
        "  # Convert to fahrenheit: f= (c * 9/5) +32\n",
        "  fahrenheit = celsious * (9/5) + 32\n",
        "\n",
        "  # Create a list of tuples\n",
        "  list_temp = list(zip(celsious, fahrenheit))\n",
        "  #print(list_temp)\n",
        "  return list_temp\n",
        "print(\"Temprature conversion table:\")\n",
        "print(\"Celsius  |  Fahrenheit\")\n",
        "print(\"-\"*20)\n",
        "for c, f in temprature_conversion():\n",
        "  print(f\"{c:7.1f} | {f:7.1f}\")\n",
        "\n",
        "\n",
        "\n"
      ],
      "metadata": {
        "colab": {
          "base_uri": "https://localhost:8080/"
        },
        "id": "iv2OYN73KlT2",
        "outputId": "a80caa69-3fb6-4bfa-ea0d-94588f40fdc2"
      },
      "execution_count": 31,
      "outputs": [
        {
          "output_type": "stream",
          "name": "stdout",
          "text": [
            "Temprature conversion table:\n",
            "Celsius  |  Fahrenheit\n",
            "--------------------\n",
            "    0.0 |    32.0\n",
            "   10.0 |    50.0\n",
            "   20.0 |    68.0\n",
            "   30.0 |    86.0\n",
            "   40.0 |   104.0\n",
            "   50.0 |   122.0\n",
            "   60.0 |   140.0\n",
            "   70.0 |   158.0\n",
            "   80.0 |   176.0\n",
            "   90.0 |   194.0\n",
            "  100.0 |   212.0\n"
          ]
        }
      ]
    },
    {
      "cell_type": "code",
      "source": [
        "# Exercise 2: Matrix Operations\n",
        "def matrix_calculator():\n",
        "    # Create two 3x3 matrices\n",
        "    A = np.array([[1, 2, 3],\n",
        "                  [4, 5, 6],\n",
        "                  [7, 8, 9]])\n",
        "\n",
        "    B = np.array([[9, 8, 7],\n",
        "                  [6, 5, 4],\n",
        "                  [3, 2, 1]])\n",
        "\n",
        "    print(\"Matrix A:\\n\", A)\n",
        "    print(\"\\nMatrix B:\\n\", B)\n",
        "\n",
        "    # Matrix operations\n",
        "    print(\"\\nMatrix Addition:\\n\", A + B)\n",
        "    print(\"\\nMatrix Multiplication:\\n\", np.dot(A, B))\n",
        "    print(\"\\nMatrix A Transpose:\\n\", A.T)\n",
        "    print(\"\\nDeterminant of A:\", np.linalg.det(A))\n",
        "\n",
        "matrix_calculator()"
      ],
      "metadata": {
        "colab": {
          "base_uri": "https://localhost:8080/"
        },
        "id": "BzWEp0VOUS9Q",
        "outputId": "2c8b5b10-2302-486c-c451-b45277fe3ba6"
      },
      "execution_count": 32,
      "outputs": [
        {
          "output_type": "stream",
          "name": "stdout",
          "text": [
            "Matrix A:\n",
            " [[1 2 3]\n",
            " [4 5 6]\n",
            " [7 8 9]]\n",
            "\n",
            "Matrix B:\n",
            " [[9 8 7]\n",
            " [6 5 4]\n",
            " [3 2 1]]\n",
            "\n",
            "Matrix Addition:\n",
            " [[10 10 10]\n",
            " [10 10 10]\n",
            " [10 10 10]]\n",
            "\n",
            "Matrix Multiplication:\n",
            " [[ 30  24  18]\n",
            " [ 84  69  54]\n",
            " [138 114  90]]\n",
            "\n",
            "Matrix A Transpose:\n",
            " [[1 4 7]\n",
            " [2 5 8]\n",
            " [3 6 9]]\n",
            "\n",
            "Determinant of A: 0.0\n"
          ]
        }
      ]
    },
    {
      "cell_type": "code",
      "source": [
        "# Exercise 2: Matrix Operations\n",
        "def matrix_calculator():\n",
        "    # Create two 3x3 matrices\n",
        "    A = np.array([[1, 2, 3],\n",
        "                  [4, 5, 6],\n",
        "                  [7, 8, 9]])\n",
        "\n",
        "    B = np.array([[9, 8, 7],\n",
        "                  [6, 5, 4],\n",
        "                  [3, 2, 1]])\n",
        "\n",
        "    return A, B\n",
        "a, b = matrix_calculator()\n",
        "print(\"Matrix A:\\n\", a)\n",
        "print(\"\\nMatrix B:\\n\", b)\n",
        "print(\"\\nMatrix Addition:\\n\", a + b)\n",
        "print(\"\\nMatrix Multiplication:\\n\", np.dot(a, b))\n",
        "print(\"\\nMatrix A Transpose:\\n\", a.T)\n",
        "print(\"\\nDeterminant of A:\", np.linalg.det(a))"
      ],
      "metadata": {
        "colab": {
          "base_uri": "https://localhost:8080/"
        },
        "id": "_9cRTY_WVByp",
        "outputId": "ba290e3a-c457-4c7b-9ebd-3b00e4b6d88f"
      },
      "execution_count": 41,
      "outputs": [
        {
          "output_type": "stream",
          "name": "stdout",
          "text": [
            "Matrix A:\n",
            " [[1 2 3]\n",
            " [4 5 6]\n",
            " [7 8 9]]\n",
            "\n",
            "Matrix B:\n",
            " [[9 8 7]\n",
            " [6 5 4]\n",
            " [3 2 1]]\n",
            "\n",
            "Matrix Addition:\n",
            " [[10 10 10]\n",
            " [10 10 10]\n",
            " [10 10 10]]\n",
            "\n",
            "Matrix Multiplication:\n",
            " [[ 30  24  18]\n",
            " [ 84  69  54]\n",
            " [138 114  90]]\n",
            "\n",
            "Matrix A Transpose:\n",
            " [[1 4 7]\n",
            " [2 5 8]\n",
            " [3 6 9]]\n",
            "\n",
            "Determinant of A: 0.0\n"
          ]
        }
      ]
    },
    {
      "cell_type": "markdown",
      "source": [
        ". Which function creates an array of evenly spaced numbers?\n",
        "   - a) np.array()\n",
        "   - b) np.arange()\n",
        "   - c) np.zeros()\n",
        "   - d) np.ones()\n",
        "\n",
        "2. What is broadcasting in NumPy?\n",
        "   - a) Converting arrays to lists\n",
        "   - b) Automatic array shape manipulation for operations\n",
        "   - c) Broadcasting radio signals\n",
        "   - d) Printing array elements\n",
        "\n",
        "3. Which method creates an identity matrix?\n",
        "   - a) np.identity()\n",
        "   - b) np.eye()\n",
        "   - c) np.ones()\n",
        "   - d) np.diagonal()\n",
        "\n",
        "4. What is the shape of np.array([1, 2, 3, 4])?n  \n",
        "   - a) (4,)\n",
        "   - b) (1, 4)\n",
        "   - c) (4, 1)\n",
        "   - d) (1, 1, 4)\n",
        "\n",
        "5. Which operation is element-wise?\n",
        "   - a) np.dot()\n",
        "   - b) np.multiply()\n",
        "   - c) np.matmul()\n",
        "   - d) np.cross()\n",
        "\n",
        "6. How do you find the number of dimensions in a NumPy array?\n",
        "   - a) array.dim()\n",
        "   - b) array.ndim\n",
        "   - c) array.dimensions\n",
        "   - d) array.shape()\n",
        "\n",
        "7. What does np.zeros(3) create?\n",
        "   - a) A 3x3 matrix of zeros\n",
        "   - b) An array of 3 zeros\n",
        "   - c) A 3x3x3 cube of zeros\n",
        "   - d) A single zero repeated 3 times\n",
        "\n",
        "8. Which method stacks arrays vertically?\n",
        "   - a) np.hstack()\n",
        "   - b) np.vstack()\n",
        "   - c) np.stack()\n",
        "   - d) np.append()\n",
        "\n",
        "9. What is the result of np.arange(0, 10, 2)?\n",
        "   - a) [0, 2, 4, 6, 8]\n",
        "   - b) [0, 2, 4, 6, 8, 10]\n",
        "   - c) [2, 4, 6, 8]\n",
        "   - d) [0, 1, 2, 3, 4]\n",
        "\n",
        "10. How do you transpose a matrix in NumPy?\n",
        "    - a) matrix.transpose()\n",
        "    - b) matrix.T\n",
        "    - c) Both a and b\n",
        "    - d) matrix.flip()\n",
        "\n",
        "Answers: 1-b, 2-b, 3-b, 4-a, 5-b, 6-b, 7-b, 8-b, 9-a, 10-c"
      ],
      "metadata": {
        "id": "iOgLiFvVXa7f"
      }
    },
    {
      "cell_type": "markdown",
      "source": [],
      "metadata": {
        "id": "h25xS64aZzw2"
      }
    }
  ]
}