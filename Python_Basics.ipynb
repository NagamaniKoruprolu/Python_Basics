{
  "nbformat": 4,
  "nbformat_minor": 0,
  "metadata": {
    "colab": {
      "provenance": [],
      "authorship_tag": "ABX9TyOzLCoz9nwH+q3KfeuAbbGs",
      "include_colab_link": true
    },
    "kernelspec": {
      "name": "python3",
      "display_name": "Python 3"
    },
    "language_info": {
      "name": "python"
    }
  },
  "cells": [
    {
      "cell_type": "markdown",
      "metadata": {
        "id": "view-in-github",
        "colab_type": "text"
      },
      "source": [
        "<a href=\"https://colab.research.google.com/github/NagamaniKoruprolu/Python_Basics/blob/main/Python_Basics.ipynb\" target=\"_parent\"><img src=\"https://colab.research.google.com/assets/colab-badge.svg\" alt=\"Open In Colab\"/></a>"
      ]
    },
    {
      "cell_type": "code",
      "execution_count": null,
      "metadata": {
        "id": "NaulHE7zKjGl"
      },
      "outputs": [],
      "source": [
        "# first payton program\n",
        "import pandas as pd\n"
      ]
    },
    {
      "cell_type": "code",
      "source": [
        "x= 5\n",
        "name=\"Jahn\"\n",
        "is_valid=True\n",
        "print(\"X=\",x)\n",
        "print(\"name=\",name)\n",
        "print(\"is_valid=\",is_valid)\n",
        "\n"
      ],
      "metadata": {
        "colab": {
          "base_uri": "https://localhost:8080/"
        },
        "id": "3YjSfTrkTX5X",
        "outputId": "0f5c5882-3945-48d6-b4a7-3519c09b8cf7"
      },
      "execution_count": null,
      "outputs": [
        {
          "output_type": "stream",
          "name": "stdout",
          "text": [
            "X= 5\n",
            "name= Jahn\n",
            "is_valid= True\n"
          ]
        }
      ]
    },
    {
      "cell_type": "code",
      "source": [
        "a=5\n",
        "b=4\n",
        "c=a+b;\n",
        "print(\"c=\",c)\n"
      ],
      "metadata": {
        "colab": {
          "base_uri": "https://localhost:8080/"
        },
        "id": "tYdRD4tBU3zm",
        "outputId": "e36e0df1-272f-4ffc-a25a-cd6070bb0eb9"
      },
      "execution_count": null,
      "outputs": [
        {
          "output_type": "stream",
          "name": "stdout",
          "text": [
            "c= 9\n"
          ]
        }
      ]
    },
    {
      "cell_type": "code",
      "source": [
        "age=18\n",
        "if age>=18:\n",
        "  print(\"audult\")\n",
        "else:\n",
        "  print(\"child\")\n"
      ],
      "metadata": {
        "id": "MmjLGKJpXD8V",
        "colab": {
          "base_uri": "https://localhost:8080/"
        },
        "outputId": "1e69fc82-bca4-4659-ea2b-418a26c05ef8"
      },
      "execution_count": null,
      "outputs": [
        {
          "output_type": "stream",
          "name": "stdout",
          "text": [
            "audult\n"
          ]
        }
      ]
    },
    {
      "cell_type": "code",
      "source": [
        "x=10\n",
        "a=0\n",
        "count =0\n",
        "table =12\n",
        "while a < x:\n",
        " a=a+1\n",
        " count=count+1\n",
        " print(table,\"*\",count, \"=\",table*count)\n",
        "\n",
        "\n",
        "\n",
        "\n",
        "\n",
        "\n"
      ],
      "metadata": {
        "colab": {
          "base_uri": "https://localhost:8080/"
        },
        "id": "tsqADMuFm_KY",
        "outputId": "275a11f3-7741-41e9-c41d-7e43576aae93"
      },
      "execution_count": null,
      "outputs": [
        {
          "output_type": "stream",
          "name": "stdout",
          "text": [
            "12 * 1 = 12\n",
            "12 * 2 = 24\n",
            "12 * 3 = 36\n",
            "12 * 4 = 48\n",
            "12 * 5 = 60\n",
            "12 * 6 = 72\n",
            "12 * 7 = 84\n",
            "12 * 8 = 96\n",
            "12 * 9 = 108\n",
            "12 * 10 = 120\n"
          ]
        }
      ]
    },
    {
      "cell_type": "code",
      "source": [
        "from ast import mod\n",
        "a=5\n",
        "print(\"div:\", a%2)"
      ],
      "metadata": {
        "colab": {
          "base_uri": "https://localhost:8080/"
        },
        "id": "yWnAwydBp6oj",
        "outputId": "2d7f6b01-e1dd-4a3c-9525-06615162f24f"
      },
      "execution_count": null,
      "outputs": [
        {
          "output_type": "stream",
          "name": "stdout",
          "text": [
            "div: 1\n"
          ]
        }
      ]
    },
    {
      "cell_type": "code",
      "source": [
        "# prompt: code for print even numbers\n",
        "for a in range(10):\n",
        "  print(a)\n",
        "\n"
      ],
      "metadata": {
        "colab": {
          "base_uri": "https://localhost:8080/"
        },
        "id": "25SB_lEdqTKO",
        "outputId": "b6fca9af-3bbf-4abf-97ed-9d454ffa2e39"
      },
      "execution_count": null,
      "outputs": [
        {
          "output_type": "stream",
          "name": "stdout",
          "text": [
            "0\n",
            "1\n",
            "2\n",
            "3\n",
            "4\n",
            "5\n",
            "6\n",
            "7\n",
            "8\n",
            "9\n"
          ]
        }
      ]
    },
    {
      "cell_type": "code",
      "source": [
        "a=[1,2,3,4,5]\n",
        "for num in a:\n",
        "  print(num)\n",
        "names=[\"aa\",\"bb\",\"cc\",\"dd\"]\n",
        "names.remove(\"bb\")\n",
        "names.append(\"ee\")\n",
        "for name in names:\n",
        "  print(name)\n"
      ],
      "metadata": {
        "colab": {
          "base_uri": "https://localhost:8080/"
        },
        "id": "l6FFrrZjGJrg",
        "outputId": "20b10433-2554-4e99-8b22-2198395749cf"
      },
      "execution_count": null,
      "outputs": [
        {
          "output_type": "stream",
          "name": "stdout",
          "text": [
            "1\n",
            "2\n",
            "3\n",
            "4\n",
            "5\n",
            "aa\n",
            "cc\n",
            "dd\n",
            "ee\n"
          ]
        }
      ]
    },
    {
      "cell_type": "code",
      "source": [
        "# List\n",
        "import numpy as np\n",
        "my_list = [1,2,3,4,5]\n",
        "my_array = np.array(my_list)\n",
        "print(my_array)\n",
        "print(my_array.size)\n"
      ],
      "metadata": {
        "colab": {
          "base_uri": "https://localhost:8080/"
        },
        "id": "r0xcXx2KHYYM",
        "outputId": "6b5bf6f9-c486-482d-aee8-c9f3dbc9c094"
      },
      "execution_count": null,
      "outputs": [
        {
          "output_type": "stream",
          "name": "stdout",
          "text": [
            "[1 2 3 4 5]\n",
            "5\n"
          ]
        }
      ]
    },
    {
      "cell_type": "code",
      "source": [
        "# List\n",
        "import numpy as np\n",
        "my_list = [1,2,3,4,5]\n",
        "#my_array = np.array(my_list)\n",
        "print(my_array.shape) #help in dealing with rows and columns\n",
        "result_array = my_array.reshape(5,1)\n",
        "print(result_array)\n",
        "print(result_array.shape)\n",
        "print(np.matrix(my_list))\n",
        "#print(my_array.size)\n"
      ],
      "metadata": {
        "colab": {
          "base_uri": "https://localhost:8080/"
        },
        "id": "okhP1UocIVf_",
        "outputId": "e4c26bdc-485f-4b4b-fdd3-44c199398f28"
      },
      "execution_count": null,
      "outputs": [
        {
          "output_type": "stream",
          "name": "stdout",
          "text": [
            "(5,)\n",
            "[[1]\n",
            " [2]\n",
            " [3]\n",
            " [4]\n",
            " [5]]\n",
            "(5, 1)\n",
            "[[1 2 3 4 5]]\n"
          ]
        }
      ]
    },
    {
      "cell_type": "code",
      "source": [
        "# prompt: give me slicing examples\n",
        "\n",
        "\n",
        "\n",
        "# NumPy array slicing\n",
        "my_array = np.array([1, 2, 3, 4, 5, 6, 7, 8])\n",
        "print(my_array[1:5])  # Output: [2 3 4]\n",
        "print(my_array[3:4])  # Output: [1 2 3 4]\n",
        "print(my_array[4:])  # Output: [5 6 7 8]\n",
        "print(my_array[-3:]) # Output: [6 7 8]\n",
        "print(my_array[::2]) # Output: [1 3 5 7]\n",
        "\n",
        "\n",
        "# Pandas DataFrame slicing\n",
        "import pandas as pd # Import pandas and assign it to the alias 'pd'\n",
        "data = {'col1': [1, 2, 3, 4, 5], 'col2': [6, 7, 8, 9, 10]}\n",
        "df = pd.DataFrame(data)\n",
        "\n",
        "#print(df[1:4]) # select rows 1 to 3\n",
        "print(df.loc[0:2, 'col1']) # select col1 for row 0 to 2\n",
        "#print(df.iloc[0:2, 0]) # select col1 for row 0 to 1\n",
        "\n"
      ],
      "metadata": {
        "colab": {
          "base_uri": "https://localhost:8080/"
        },
        "id": "7BNhPRjVJIvM",
        "outputId": "2920b9b7-82a5-47b7-8a72-136d33cb964b"
      },
      "execution_count": null,
      "outputs": [
        {
          "output_type": "stream",
          "name": "stdout",
          "text": [
            "[2 3 4 5]\n",
            "[4]\n",
            "[5 6 7 8]\n",
            "[6 7 8]\n",
            "[1 3 5 7]\n",
            "0    1\n",
            "1    2\n",
            "2    3\n",
            "Name: col1, dtype: int64\n"
          ]
        }
      ]
    },
    {
      "cell_type": "code",
      "source": [
        "import sys\n",
        "\n",
        "print(sys.version)"
      ],
      "metadata": {
        "colab": {
          "base_uri": "https://localhost:8080/"
        },
        "id": "dCLpjwB2Rtuu",
        "outputId": "ba7475b7-af03-49fe-837f-ed9d0625921d"
      },
      "execution_count": null,
      "outputs": [
        {
          "output_type": "stream",
          "name": "stdout",
          "text": [
            "3.11.11 (main, Dec  4 2024, 08:55:07) [GCC 11.4.0]\n"
          ]
        }
      ]
    },
    {
      "cell_type": "code",
      "source": [
        "# Dictionary of AI tools and their applications\n",
        "ai_tools = {\n",
        "    'ChatGPT': 'Natural Language Processing',\n",
        "    'Tesla Autopilot': 'Computer Vision & Autonomous Driving',\n",
        "    'Netflix Recommendations': 'Recommendation Systems',\n",
        "    'Gmail Spam Filter': 'Classification',\n",
        "    'Alexa': 'Speech Recognition'\n",
        "}\n",
        "\n",
        "# Print the AI tools and their applications\n",
        "for tool, application in ai_tools.items():\n",
        "    print(f\"{tool}: {application}\")"
      ],
      "metadata": {
        "id": "b6E46Bj6Q36T",
        "colab": {
          "base_uri": "https://localhost:8080/"
        },
        "outputId": "e015015a-0ef5-4216-c811-7676e0481fc7"
      },
      "execution_count": 1,
      "outputs": [
        {
          "output_type": "stream",
          "name": "stdout",
          "text": [
            "ChatGPT: Natural Language Processing\n",
            "Tesla Autopilot: Computer Vision & Autonomous Driving\n",
            "Netflix Recommendations: Recommendation Systems\n",
            "Gmail Spam Filter: Classification\n",
            "Alexa: Speech Recognition\n"
          ]
        }
      ]
    },
    {
      "cell_type": "code",
      "source": [],
      "metadata": {
        "id": "kZpKY-YN9uyh"
      },
      "execution_count": null,
      "outputs": []
    }
  ]
}